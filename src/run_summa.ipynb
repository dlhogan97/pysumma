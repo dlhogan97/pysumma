{
 "cells": [
  {
   "cell_type": "code",
   "execution_count": 1,
   "metadata": {},
   "outputs": [],
   "source": [
    "import xarray as xr\n",
    "import os\n",
    "import numpy as np\n",
    "import pandas as pd\n",
    "from datetime import datetime\n",
    "import matplotlib.pyplot as plt\n",
    "import pysumma as ps\n",
    "import pysumma.plotting as psp\n",
    "import warnings\n",
    "\n",
    "# pysumma has many depreciated packages, this ignores their warnings\n",
    "warnings.filterwarnings(\"ignore\", category=UserWarning)\n"
   ]
  },
  {
   "cell_type": "code",
   "execution_count": 6,
   "metadata": {},
   "outputs": [],
   "source": [
    "# for testing \n",
    "!echo \"Stevens_Pass.nc\" > forcings/forcing_file_list.txt"
   ]
  },
  {
   "cell_type": "code",
   "execution_count": 7,
   "metadata": {},
   "outputs": [],
   "source": [
    "executable = 'summa.exe'\n",
    "filemanager = './model/settings/file_manager.txt'\n",
    "\n",
    "# Create a pySUMMA simulation object\n",
    "s = ps.Simulation(executable, filemanager)\n",
    "\n",
    "# Set the simulation start and end times from forcing file\n",
    "with open('./forcings/forcing_file_list.txt', 'r') as file:\n",
    "    # Read the contents\n",
    "    forcing_file = file.read().replace(\"'\", \"\")\n",
    "forcing = xr.open_dataset('./forcings/'+forcing_file.strip(), engine='netcdf4')\n",
    "time = forcing['time']\n",
    "\n",
    "dt64 = np.datetime64(time.isel(time=0).values)\n",
    "dt = pd.to_datetime(dt64)\n",
    "start = dt.strftime('%Y-%m-%d %H:%M')\n",
    "dt64 = np.datetime64(time.isel(time=-1).values)\n",
    "dt = pd.to_datetime(dt64)\n",
    "end = dt.strftime('%Y-%m-%d %H:%M')"
   ]
  },
  {
   "cell_type": "code",
   "execution_count": 8,
   "metadata": {},
   "outputs": [],
   "source": [
    "s.manager['simStartTime'] = start\n",
    "s.manager['simEndTime'] = end\n",
    "\n",
    "# Set params\n",
    "s.decisions['snowLayers'] = 'jrdn1991'\n",
    "s.decisions['thCondSnow'] = 'jrdn1991'\n",
    "s.decisions['snowDenNew'] = 'hedAndPom'\n",
    "s.decisions['compaction'] = 'consettl'\n",
    "s.decisions['astability'] = 'mahrtexp'\n",
    "\n",
    "s.global_hru_params['tempCritRain'] = 273.15\n",
    "s.global_hru_params['newSnowDenMin'] = 100\n",
    "s.global_hru_params['densScalGrowth'] = 0.10\n",
    "s.global_hru_params['densScalOvrbdn'] = 0.025\n",
    "s.global_hru_params['fixedThermalCond_snow'] = 0.35\n",
    "\n",
    "# Add in some additional variables so we can demonstrate plotting capabilities\n",
    "output_settings = {'period': 1, 'instant': 1, 'sum': 0, \n",
    "              'mean': 0, 'variance': 0, 'min': 0, 'max': 0}\n",
    "layer_vars = ['mLayerTemp', 'mLayerDepth', 'mLayerHeight',\n",
    "              'mLayerLiqFluxSoil', 'mLayerVolFracIce', 'mLayerVolFracLiq', \n",
    "              'mLayerVolFracWat','mLayerMatricHead', 'iLayerHeight', 'scalarSnowDepth', 'nSnow']\n",
    "\n",
    "# Create the new variables\n",
    "for var in layer_vars:\n",
    "    s.output_control[var] = output_settings\n",
    "\n",
    "# Ensure all variables have the same statistics\n",
    "all_vars = set(layer_vars + [o.name for o in s.output_control.options])\n",
    "for var in all_vars:\n",
    "    s.output_control[var] = output_settings\n",
    "\n",
    "out_name = os.path.splitext(forcing_file)[0]\n",
    "# Run the model, specify the output suffix\n",
    "s.run('local', run_suffix=out_name)"
   ]
  },
  {
   "cell_type": "code",
   "execution_count": 9,
   "metadata": {},
   "outputs": [
    {
     "data": {
      "text/plain": [
       "'Success'"
      ]
     },
     "execution_count": 9,
     "metadata": {},
     "output_type": "execute_result"
    }
   ],
   "source": [
    "s.status"
   ]
  },
  {
   "cell_type": "code",
   "execution_count": null,
   "metadata": {},
   "outputs": [],
   "source": []
  }
 ],
 "metadata": {
  "kernelspec": {
   "display_name": "pysumma",
   "language": "python",
   "name": "python3"
  },
  "language_info": {
   "codemirror_mode": {
    "name": "ipython",
    "version": 3
   },
   "file_extension": ".py",
   "mimetype": "text/x-python",
   "name": "python",
   "nbconvert_exporter": "python",
   "pygments_lexer": "ipython3",
   "version": "3.9.15"
  }
 },
 "nbformat": 4,
 "nbformat_minor": 2
}
