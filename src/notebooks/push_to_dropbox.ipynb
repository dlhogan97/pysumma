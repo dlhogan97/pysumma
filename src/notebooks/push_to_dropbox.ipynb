{
 "cells": [
  {
   "cell_type": "code",
   "execution_count": 23,
   "metadata": {},
   "outputs": [],
   "source": [
    "import dropbox\n",
    "import xarray as xr\n",
    "import io\n",
    "import json\n",
    "\n",
    "with open(\"/home/dlhogan/GitHub/pysumma/dropbox.json\") as f:\n",
    "    token = json.load(f)\n",
    "    APP_KEY = token['APP_KEY']\n",
    "    APP_SECRET = token['APP_SECRET']\n",
    "\n",
    "def read_xarray_file_from_dropbox(dropbox_file_path, access_token):\n",
    "    \"\"\"\n",
    "    Reads an xarray file directly from Dropbox into memory.\n",
    "\n",
    "    Parameters:\n",
    "        dropbox_file_path (str): Path to the file in Dropbox (e.g., '/folder/file.nc').\n",
    "        access_token (str): Dropbox API access token.\n",
    "\n",
    "    Returns:\n",
    "        xarray.Dataset: Loaded dataset.\n",
    "    \"\"\"\n",
    "    try:\n",
    "        # Initialize Dropbox client\n",
    "        dbx = dropbox.Dropbox(app_key=APP_KEY,\n",
    "                              app_secret=APP_SECRET,\n",
    "                              oauth2_refresh_token=access_token)\n",
    "        \n",
    "        # Download the file content into memory\n",
    "        metadata, res = dbx.files_download(dropbox_file_path)\n",
    "        file_content = io.BytesIO(res.content)\n",
    "        \n",
    "        # Load the file content as an xarray dataset\n",
    "        dataset = xr.open_dataset(file_content)\n",
    "        return dataset\n",
    "    except Exception as e:\n",
    "        raise RuntimeError(f\"Failed to read file from Dropbox: {e}\")\n"
   ]
  },
  {
   "cell_type": "code",
   "execution_count": null,
   "metadata": {},
   "outputs": [],
   "source": [
    "import dropbox\n",
    "import json\n",
    "import requests\n",
    "import webbrowser\n",
    "import base64\n",
    "with open(\"/home/dlhogan/GitHub/pysumma/dropbox.json\") as f:\n",
    "    token = json.load(f)\n",
    "    APP_KEY = token['APP_KEY']\n",
    "    APP_SECRET = token['APP_SECRET']\n",
    "    ACCESS_CODE_GENERATED = token['ACCESS_CODE_GENERATED']\n",
    "url = f\"https://www.dropbox.com/oauth2/authorize?client_id={APP_KEY}&token_access_type=offline&response_type=code\"\n",
    "\n",
    "BASIC_AUTH = base64.b64encode(f'{APP_KEY}:{APP_SECRET}'.encode())\n",
    "\n",
    "headers = {\n",
    "    'Authorization': f\"Basic {BASIC_AUTH}\",\n",
    "    'Content-Type': 'application/x-www-form-urlencoded',\n",
    "}\n",
    "\n",
    "data = f'code={ACCESS_CODE_GENERATED}&grant_type=authorization_code'\n",
    "\n",
    "response = requests.post('https://api.dropboxapi.com/oauth2/token', data=data, auth=(APP_KEY, APP_SECRET), headers=headers)\n",
    "\n"
   ]
  },
  {
   "cell_type": "code",
   "execution_count": 24,
   "metadata": {},
   "outputs": [],
   "source": [
    "# Example usage\n",
    "# open .dropbox_token file and read the token\n",
    "with open(\"/home/dlhogan/GitHub/pysumma/.dropbox_token\") as f:\n",
    "    token = f.read().strip()\n",
    "\n",
    "access_token = token\n",
    "site = \"Stevens_Pass\"\n",
    "dropbox_file = f\"/Apps/push-and-pull-pysumma/output/_{site}_timestep.nc\"  # Path to the xarray file in Dropbox\n",
    "\n",
    "ds = read_xarray_file_from_dropbox(dropbox_file, access_token)"
   ]
  }
 ],
 "metadata": {
  "kernelspec": {
   "display_name": "pysumma",
   "language": "python",
   "name": "python3"
  },
  "language_info": {
   "codemirror_mode": {
    "name": "ipython",
    "version": 3
   },
   "file_extension": ".py",
   "mimetype": "text/x-python",
   "name": "python",
   "nbconvert_exporter": "python",
   "pygments_lexer": "ipython3",
   "version": "3.9.15"
  }
 },
 "nbformat": 4,
 "nbformat_minor": 2
}
