{
 "cells": [
  {
   "cell_type": "code",
   "execution_count": 78,
   "metadata": {},
   "outputs": [],
   "source": [
    "import geopandas as gpd\n",
    "import matplotlib.pyplot as plt\n",
    "import folium\n",
    "import ipywidgets as widgets"
   ]
  },
  {
   "cell_type": "markdown",
   "metadata": {},
   "source": [
    "# Test that we have locations\n",
    "Produced from get_snotels.py"
   ]
  },
  {
   "cell_type": "code",
   "execution_count": 79,
   "metadata": {},
   "outputs": [],
   "source": [
    "# load the data\n",
    "washington = gpd.read_file('../data/washington.geojson')\n",
    "wa_snotels_all = gpd.read_file('../data/snotel_points.geojson')\n",
    "wa_snotels_sel = gpd.read_file('../data/sel_snotel_points.geojson')"
   ]
  },
  {
   "cell_type": "code",
   "execution_count": 80,
   "metadata": {},
   "outputs": [
    {
     "data": {
      "text/plain": [
       "0         Bickleton\n",
       "1       Quartz Peak\n",
       "2      Meadows Pass\n",
       "3        Pope Ridge\n",
       "4         Easy Pass\n",
       "          ...      \n",
       "73        Fish Lake\n",
       "74         Calamity\n",
       "75    Skookum Creek\n",
       "76    Tinkham Creek\n",
       "77        Lone Pine\n",
       "Name: name, Length: 78, dtype: object"
      ]
     },
     "execution_count": 80,
     "metadata": {},
     "output_type": "execute_result"
    }
   ],
   "source": [
    "wa_snotels_all['name']"
   ]
  },
  {
   "cell_type": "code",
   "execution_count": 81,
   "metadata": {},
   "outputs": [
    {
     "data": {
      "text/plain": [
       "<folium.features.GeoJson at 0x7f23cc1fcdc0>"
      ]
     },
     "execution_count": 81,
     "metadata": {},
     "output_type": "execute_result"
    }
   ],
   "source": [
    "# Make an interactive plot of the data\n",
    "min_lon, max_lon = washington.bounds.minx.min()-10, washington.bounds.maxx.max()+10\n",
    "min_lat, max_lat = washington.bounds.miny.min()-10, washington.bounds.maxy.max()+10\n",
    "fig = folium.Figure(width=800, height=600)\n",
    "\n",
    "def style_function(feature):\n",
    "    props = feature.get('properties')\n",
    "    markup = f\"\"\"\n",
    "        <a href=\"{props.get('url')}\">\n",
    "            <div style=\"font-size: 0.8em;\">\n",
    "            <div style=\"width: 10px;\n",
    "                        height: 10px;\n",
    "                        border: 1px solid black;\n",
    "                        border-radius: 8px;\n",
    "                        background-color: orange;\">\n",
    "            </div>\n",
    "            {props.get('name')}\n",
    "        </div>\n",
    "        </a>\n",
    "    \"\"\"\n",
    "    return {\"html\": markup}\n",
    "\n",
    "m = folium.Map(location=[47.5, -120.5], \n",
    "               zoom_start=7, \n",
    "               max_bounds=True,\n",
    "               min_lat=min_lat,\n",
    "               max_lat=max_lat,\n",
    "               min_lon=min_lon,\n",
    "               max_lon=max_lon).add_to(fig)\n",
    "\n",
    "# add the washington outline\n",
    "folium.GeoJson(washington).add_to(m)\n",
    "\n",
    "# add the snotel points\n",
    "folium.GeoJson(wa_snotels_all,\n",
    "                marker=folium.Marker(icon=folium.DivIcon()),\n",
    "                tooltip=folium.GeoJsonTooltip(fields=[\"name\", \"id\"]),\n",
    "                popup=folium.GeoJsonPopup(fields=[\"name\", \"id\"]),  \n",
    "                style_function=style_function,\n",
    "                zoom_on_click=False,\n",
    "               ).add_to(m)\n"
   ]
  },
  {
   "cell_type": "code",
   "execution_count": 83,
   "metadata": {},
   "outputs": [
    {
     "data": {
      "text/plain": [
       "['788:WA:SNTL',\n",
       " '672:WA:SNTL',\n",
       " '642:WA:SNTL',\n",
       " '909:WA:SNTL',\n",
       " '974:WA:SNTL',\n",
       " '863:WA:SNTL',\n",
       " '679:WA:SNTL',\n",
       " '791:WA:SNTL']"
      ]
     },
     "execution_count": 83,
     "metadata": {},
     "output_type": "execute_result"
    }
   ],
   "source": [
    "wa_snotels_sel.id.to_list()"
   ]
  },
  {
   "cell_type": "code",
   "execution_count": null,
   "metadata": {},
   "outputs": [],
   "source": []
  },
  {
   "cell_type": "code",
   "execution_count": 112,
   "metadata": {},
   "outputs": [],
   "source": [
    "import pandas as pd\n",
    "import xarray as xr\n",
    "import numpy as np\n",
    "ds = xr.open_dataset('../src/forcings/Olallie Meadows.nc')\n",
    "ds2 = xr.open_dataset('../src/forcings/paradise_WY25.nc')"
   ]
  },
  {
   "cell_type": "code",
   "execution_count": 117,
   "metadata": {},
   "outputs": [
    {
     "data": {
      "text/plain": [
       "Data variables:\n",
       "    airtemp     (time, hru) float64 283.0 282.1 280.3 ... 272.6 272.6 272.5\n",
       "    pptrate     (time, hru) float64 0.0 0.0 0.0 0.0 ... 0.0 0.0 0.0 0.0007056\n",
       "    airpres     (time, hru) float64 7.501e+04 7.491e+04 ... 7.406e+04 7.405e+04\n",
       "    spechum     (time, hru) float64 0.009647 0.008648 ... 0.004822 0.004835\n",
       "    SWRadAtm    (time, hru) float64 0.0 0.0 0.0 0.0 0.0 ... 0.0 0.0 0.0 0.0 0.0\n",
       "    LWRadAtm    (time, hru) float64 284.9 277.7 270.1 ... 231.6 232.4 232.3\n",
       "    windspd     (time, hru) float64 2.0 2.0 2.0 2.0 2.0 ... 2.0 2.0 2.0 2.0 2.0\n",
       "    gap_filled  (hru, time) float64 1.0 1.0 1.0 1.0 1.0 ... 1.0 1.0 1.0 1.0 1.0\n",
       "    data_step   float64 3.6e+03\n",
       "    hruId       (hru) int32 1001"
      ]
     },
     "execution_count": 117,
     "metadata": {},
     "output_type": "execute_result"
    }
   ],
   "source": [
    "ds.data_vars"
   ]
  },
  {
   "cell_type": "code",
   "execution_count": 121,
   "metadata": {},
   "outputs": [
    {
     "data": {
      "text/plain": [
       "Data variables:\n",
       "    airtemp     (time, hru) float64 284.8 283.4 283.9 ... 273.6 273.6 274.4\n",
       "    pptrate     (time, hru) float64 0.0 0.0 0.0 0.0 ... 0.0 0.002117 0.002117\n",
       "    airpres     (time, hru) float64 6.931e+04 6.918e+04 ... 6.811e+04 6.819e+04\n",
       "    spechum     (time, hru) float64 0.01148 0.01126 ... 0.005637 0.005731\n",
       "    SWRadAtm    (time, hru) float64 0.0 0.0 0.0 0.0 0.0 ... 4.728 0.0 0.0 0.0\n",
       "    LWRadAtm    (time, hru) float64 294.1 289.2 288.9 ... 236.9 236.9 239.4\n",
       "    windspd     (time, hru) float64 2.0 2.0 2.0 2.0 2.0 ... 2.0 2.0 2.0 2.0 2.0\n",
       "    gap_filled  (hru, time) float64 1.0 1.0 1.0 1.0 1.0 ... 1.0 1.0 1.0 1.0 1.0\n",
       "    data_step   float64 3.6e+03\n",
       "    hruId       (hru) int32 1001"
      ]
     },
     "execution_count": 121,
     "metadata": {},
     "output_type": "execute_result"
    }
   ],
   "source": [
    "ds2.data_vars"
   ]
  }
 ],
 "metadata": {
  "kernelspec": {
   "display_name": "pysumma",
   "language": "python",
   "name": "python3"
  },
  "language_info": {
   "codemirror_mode": {
    "name": "ipython",
    "version": 3
   },
   "file_extension": ".py",
   "mimetype": "text/x-python",
   "name": "python",
   "nbconvert_exporter": "python",
   "pygments_lexer": "ipython3",
   "version": "3.9.15"
  }
 },
 "nbformat": 4,
 "nbformat_minor": 2
}
